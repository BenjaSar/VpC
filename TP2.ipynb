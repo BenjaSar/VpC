{
 "cells": [
  {
   "cell_type": "markdown",
   "metadata": {},
   "source": [
    "### IMPLEMENTACIÓN DE FILTROS GAUSSIANOS"
   ]
  },
  {
   "cell_type": "markdown",
   "metadata": {},
   "source": [
    "En este trabajo práctico se busca la implementación de un filtro gaussiano para el filtrado espectral de una imagen. La función desarrollada retorna un filtro Gaussiano de tamaño HxW y su transformada de Fourier. "
   ]
  },
  {
   "cell_type": "code",
   "execution_count": 9,
   "metadata": {},
   "outputs": [
    {
     "name": "stdout",
     "output_type": "stream",
     "text": [
      "Using matplotlib backend: QtAgg\n"
     ]
    },
    {
     "name": "stderr",
     "output_type": "stream",
     "text": [
      "Warning: QT_DEVICE_PIXEL_RATIO is deprecated. Instead use:\n",
      "   QT_AUTO_SCREEN_SCALE_FACTOR to enable platform plugin controlled per-screen factors.\n",
      "   QT_SCREEN_SCALE_FACTORS to set per-screen DPI.\n",
      "   QT_SCALE_FACTOR to set the application global scale factor.\n",
      "qt.qpa.plugin: Could not find the Qt platform plugin \"wayland\" in \"\"\n"
     ]
    }
   ],
   "source": [
    "#Import libraries\n",
    "import numpy as np\n",
    "import cv2 as cv\n",
    "import matplotlib.pyplot as plt\n",
    "import scipy.stats as st\n",
    "from PIL import Image\n",
    "from glob import glob\n",
    "\n",
    "%matplotlib\n"
   ]
  },
  {
   "cell_type": "code",
   "execution_count": null,
   "metadata": {},
   "outputs": [],
   "source": [
    "def create_gauss_filter(h, w, k_size, sigma):\n",
    "    #Create a dummy image\n",
    "    canvas =np.zeros((h, w), dtype=np.uint8)\n",
    "    \n",
    "    #Reading image\n",
    "    img = cv.imread('./img/img1_tp.png', cv.IMREAD_GRAYSCALE)\n",
    "    h = img.shape[0]\n",
    "    w = img.shape[1]\n",
    "    \n",
    "    #2D Kernel generation\n",
    "    x = np.linspace(-sigma, sigma, k_size+1)\n",
    "    kernel1d = np.diff(st.norm.cdf(x))\n",
    "    kernel2d = np.outer(kernel1d, kernel1d)\n",
    "    gaussian_kernel = kernel2d/kernel2d.sum()\n",
    "\n",
    "    #Padding generation\n",
    "    img_pad = cv.copyMakeBorder(img, 50, 50, 50, 50, cv.BORDER_CONSTANT, (0,0,0))\n",
    "\n",
    "    #Fourier Transform for the Kernel\n",
    "\n",
    "    #Fourier Transform for the image\n",
    "\n",
    "    #Product of FFK and FFI\n",
    "\n",
    "    #Antitransform\n",
    "\n"
   ]
  }
 ],
 "metadata": {
  "kernelspec": {
   "display_name": "openCV",
   "language": "python",
   "name": "python3"
  },
  "language_info": {
   "codemirror_mode": {
    "name": "ipython",
    "version": 3
   },
   "file_extension": ".py",
   "mimetype": "text/x-python",
   "name": "python",
   "nbconvert_exporter": "python",
   "pygments_lexer": "ipython3",
   "version": "3.10.12"
  },
  "orig_nbformat": 4
 },
 "nbformat": 4,
 "nbformat_minor": 2
}
