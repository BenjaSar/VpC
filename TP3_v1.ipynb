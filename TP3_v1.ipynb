{
 "cells": [
  {
   "cell_type": "markdown",
   "metadata": {},
   "source": [
    "### TEMPLATE MATCHING\n"
   ]
  },
  {
   "cell_type": "markdown",
   "metadata": {},
   "source": [
    "En este trabajo práctico se busca la identificación de objetos a través de diferentes algoritmos, entre ellos **template matchin**.\n"
   ]
  },
  {
   "cell_type": "code",
   "execution_count": null,
   "metadata": {},
   "outputs": [],
   "source": [
    "# Import libraries\n",
    "import numpy as np\n",
    "import glob\n",
    "import cv2 as cv\n",
    "import matplotlib.pyplot as plt\n",
    "import imutils\n",
    "import scipy.stats as st\n",
    "from PIL import Image\n",
    "\n",
    "# %matplotlib\n"
   ]
  },
  {
   "cell_type": "markdown",
   "metadata": {},
   "source": [
    "### Ejercicio 1\n"
   ]
  },
  {
   "cell_type": "markdown",
   "metadata": {},
   "source": [
    "### Detección del logo en cada imagen\n"
   ]
  },
  {
   "cell_type": "code",
   "execution_count": null,
   "metadata": {},
   "outputs": [],
   "source": [
    "def scale_img():\n",
    "    pattern = cv.imread('./imgs/tp3/template/pattern.png', 0)\n",
    "    img_bitwise_list = []\n",
    "    img_resized_list = []\n",
    "\n",
    "    # Multi-scale\n",
    "    for scale in np.linspace(0.1, 1.0, 10)[::-1]:\n",
    "        img_resized = imutils.resize(\n",
    "            pattern, width=int(pattern.shape[1] * scale))\n",
    "        r = pattern.shape[1]/float(img_resized.shape[1])\n",
    "\n",
    "        # img_canny = cv.Canny(img_resized, 50, 200)\n",
    "        img_bitwise = cv.bitwise_not(img_resized)\n",
    "        img_bitwise_list.append(img_bitwise)\n",
    "        img_resized_list.append(img_resized)\n",
    "        # img_canny_list.append(img_canny)\n",
    "\n",
    "        # plt.figure()\n",
    "        # plt.imshow(img_resized)\n",
    "    return img_bitwise_list, img_resized_list"
   ]
  },
  {
   "cell_type": "code",
   "execution_count": null,
   "metadata": {},
   "outputs": [],
   "source": [
    "def read_imag():\n",
    "    img_dir = './imgs/tp3/images/'\n",
    "    ext = ['png', 'jpg']\n",
    "    files = []\n",
    "    image_gray = []\n",
    "    images_blur = []\n",
    "    imgs_color = []\n",
    "    [files.extend(glob.glob(img_dir + '*.' + e)) for e in ext]\n",
    "\n",
    "    images = [cv.imread(file) for file in files]\n",
    "\n",
    "    for im in images:\n",
    "        img_color = cv.cvtColor(im, cv.COLOR_BGR2RGB)\n",
    "        \n",
    "        img_blur = cv.GaussianBlur(img_color, (5,5), 0)\n",
    "        blur_image = cv.cvtColor(img_blur,cv.COLOR_BGR2GRAY )\n",
    "        images_blur.append(blur_image)\n",
    "        \n",
    "        img_gray = cv.cvtColor(img_color, cv.COLOR_BGR2GRAY)\n",
    "        image_gray.append(img_gray)\n",
    "        \n",
    "        imgs_color.append(img_color)\n",
    "\n",
    "    return images_blur, image_gray, imgs_color\n"
   ]
  },
  {
   "cell_type": "code",
   "execution_count": null,
   "metadata": {},
   "outputs": [],
   "source": [
    "def logo_detection()->None:\n",
    "    imgs_blur, imgs_gray, images_color = read_imag()\n",
    "    pattern_resized_list = []\n",
    "    pattern = cv.imread('./imgs/tp3/template/pattern.png', 0)\n",
    "\n",
    "    found = None\n",
    "    for i,j  in zip(range(len(imgs_gray)), range(len(images_color))):\n",
    "        \n",
    "        # Multi-scale\n",
    "        for scale in np.linspace(0.5, 3.5, 90)[::-1]:\n",
    "            pattern_resized = imutils.resize(\n",
    "                pattern, width=int(pattern.shape[1] * scale))\n",
    "                 \n",
    "            if pattern_resized.shape[1] > imgs_gray[i].shape[1]:\n",
    "                continue\n",
    "       \n",
    "        w_pattern_resized, h_pattern_resized = pattern_resized.shape[::-1]\n",
    "\n",
    "        #Edge detection for the pattern image\n",
    "        image_canny_pattern = cv.Canny(\n",
    "            pattern_resized, threshold1=100, threshold2=200)\n",
    "        \n",
    "        #Edge detection for the image where it will be detected the logo.\n",
    "        img_canny = cv.Canny(imgs_gray[i], threshold1=200, threshold2=700)\n",
    "\n",
    "        print(\"[INFO] performing template matching...\")\n",
    "        method = 'cv.TM_CCOEFF_NORMED'\n",
    "\n",
    "        #Template matching between imagen pattern and  where it will be \n",
    "        #detected the logo.\n",
    "        img_match = cv.matchTemplate(\n",
    "            img_canny, image_canny_pattern, eval(method))\n",
    "        (minVal, maxVl, minLoc, maxLoc) = cv.minMaxLoc(img_match)\n",
    "        \n",
    "        # Place where the match was found\n",
    "        top_left = maxLoc\n",
    "        \n",
    "        bottom_rigth = (top_left[0] + w_pattern_resized,\n",
    "                        (top_left[1] + h_pattern_resized))\n",
    "\n",
    "        cv.rectangle(images_color[j], top_left, bottom_rigth, (0, 0, 255), 2)\n",
    "\n",
    "        # Results of matching\n",
    "        plt.subplot(121), plt.imshow(img_match, cmap='gray')\n",
    "        plt.title('Matching Result'), plt.xticks([]), plt.yticks([])\n",
    "\n",
    "        # Original image with bounding box\n",
    "        plt.subplot(122), plt.imshow(images_color[j])\n",
    "        plt.title('Detected Point'), plt.xticks([]), plt.yticks([])\n",
    "\n",
    "        plt.suptitle(method)\n",
    "        plt.show()\n",
    "    return"
   ]
  },
  {
   "cell_type": "code",
   "execution_count": null,
   "metadata": {},
   "outputs": [],
   "source": [
    "logo_detection()"
   ]
  },
  {
   "cell_type": "code",
   "execution_count": null,
   "metadata": {},
   "outputs": [],
   "source": [
    "def logo_detection_multi(img_path:str):\n",
    "    \"\"\"This function could be used for multiple\n",
    "    detection logo. \n",
    "\n",
    "\n",
    "    Args:\n",
    "        img_path (str): path where the image to be processed \n",
    "        is located.\n",
    "    \"\"\"    \n",
    "    img = cv.imread(img_path)\n",
    "    img_coca_cola = cv.cvtColor(img, cv.COLOR_BGR2RGB)\n",
    "    img_coca_cola_gray = cv.cvtColor(img_coca_cola, cv.COLOR_BGR2GRAY)\n",
    "    img_bitwise_list, img_resized_list = scale_img()\n",
    "\n",
    "    img_template = (img_bitwise_list[8])\n",
    "    method = 'cv.TM_CCORR_NORMED'\n",
    "\n",
    "    w, h = img_template.shape[::-1]\n",
    "    res = cv.matchTemplate(\n",
    "        img_coca_cola_gray, img_template, eval(method))\n",
    "    \n",
    "    # Fijamos un umbral de \"coincidencia\"\n",
    "    threshold = 0.63\n",
    "    \n",
    "    loc = np.where(res >= threshold)\n",
    "    for pt in zip(*loc[::-1]):\n",
    "        cv.rectangle(img_coca_cola, pt, (pt[0] + w, pt[1] + h), (0, 0, 255), 2)\n",
    "\n",
    "    plt.figure(figsize=(10, 10))\n",
    "    plt.subplot(121)\n",
    "    plt.imshow(img_template, cmap='gray')\n",
    "    plt.title('Pattern')\n",
    "\n",
    "    plt.subplot(122)\n",
    "    plt.imshow(img_coca_cola)\n",
    "    plt.title('Result')\n",
    "\n",
    "    # cv.imwrite('res.png',img_rgb)\n",
    "    return"
   ]
  },
  {
   "cell_type": "code",
   "execution_count": null,
   "metadata": {},
   "outputs": [],
   "source": [
    "image_path = './imgs/tp3/images/coca_multi.png'\n",
    "logo_detection_multi(image_path)"
   ]
  },
  {
   "cell_type": "markdown",
   "metadata": {},
   "source": [
    "### Ejercicio 3\n"
   ]
  },
  {
   "cell_type": "code",
   "execution_count": null,
   "metadata": {},
   "outputs": [],
   "source": [
    "def detection() -> None:\n",
    "    \"\"\"Function to detect logos in multiples images with\n",
    "    confidence intervals.\n",
    "    \"\"\"    \n",
    "    imgs_blur, imgs_gray, images_color = read_imag()\n",
    "    max_value_list = []\n",
    "    pattern_resized_list = []\n",
    "    pattern = cv.imread('./imgs/tp3/template/pattern.png', 0)\n",
    "\n",
    "    found = None\n",
    "    for i, j in zip(range(len(imgs_gray)), range(len(images_color))):\n",
    "        w_pattern, h_pattern = pattern.shape[::-1]\n",
    "        # Multi-scale\n",
    "        for scale in np.linspace(0.5, 4, 90)[::-1]:\n",
    "            pattern_resized = imutils.resize(\n",
    "                pattern, width=int(pattern.shape[1] * scale))\n",
    "            \n",
    "            if pattern_resized.shape[1] > imgs_gray[i].shape[1]:\n",
    "                continue\n",
    "\n",
    "        w_pattern_resized, h_pattern_resized = pattern_resized.shape[::-1]\n",
    "\n",
    "        image_canny_pattern = cv.Canny(\n",
    "            pattern_resized, threshold1=200, threshold2=500)\n",
    "        img_canny = cv.Canny(imgs_gray[i], threshold1=400, threshold2=700)\n",
    "\n",
    "        print(\"[INFO] performing template matching...\")\n",
    "        method = 'cv.TM_CCOEFF_NORMED'\n",
    "        img_match = cv.matchTemplate(\n",
    "            img_canny, image_canny_pattern, eval(method))\n",
    "        (minVal, maxVl, minLoc, maxLoc) = cv.minMaxLoc(img_match)\n",
    "\n",
    "        max_value_list.append(maxVl)\n",
    "\n",
    "\n",
    "        CI = 0.7\n",
    "\n",
    "        threshold = 0.063*CI\n",
    "        if max_value_list[j] >= threshold:\n",
    "            threshold = max_value_list[j]\n",
    "\n",
    "        loc = np.where(img_match >= threshold)\n",
    "        for pt in zip(*loc[::-1]):\n",
    "            cv.rectangle(images_color[j], pt, (pt[0] + w_pattern_resized,\n",
    "                         pt[1] + h_pattern_resized), (0, 0, 255), 2)\n",
    "\n",
    "        # Results of matching\n",
    "        plt.subplot(121), plt.imshow(img_match, cmap='gray')\n",
    "        plt.title('Matching Result'), plt.xticks([]), plt.yticks([])\n",
    "\n",
    "        # Original image with bounding box\n",
    "        plt.subplot(122), plt.imshow(images_color[j])\n",
    "        plt.title('Detected Point'), plt.xticks([]), plt.yticks([])\n",
    "\n",
    "        plt.suptitle(method)\n",
    "        plt.show()\n",
    "    return"
   ]
  },
  {
   "cell_type": "code",
   "execution_count": null,
   "metadata": {},
   "outputs": [],
   "source": [
    "detection()"
   ]
  }
 ],
 "metadata": {
  "kernelspec": {
   "display_name": "openCV",
   "language": "python",
   "name": "python3"
  },
  "language_info": {
   "codemirror_mode": {
    "name": "ipython",
    "version": 3
   },
   "file_extension": ".py",
   "mimetype": "text/x-python",
   "name": "python",
   "nbconvert_exporter": "python",
   "pygments_lexer": "ipython3",
   "version": "3.11.4"
  },
  "orig_nbformat": 4
 },
 "nbformat": 4,
 "nbformat_minor": 2
}
