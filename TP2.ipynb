{
 "cells": [
  {
   "cell_type": "markdown",
   "metadata": {},
   "source": [
    "### IMPLEMENTACIÓN DE FILTROS GAUSSIANOS"
   ]
  },
  {
   "cell_type": "markdown",
   "metadata": {},
   "source": [
    "En este trabajo práctico se busca la implementación de un filtro gaussiano para el filtrado espectral de una imagen. La función desarrollada retorna un filtro Gaussiano de tamaño HxW y su transformada de Fourier. "
   ]
  },
  {
   "cell_type": "code",
   "execution_count": 2,
   "metadata": {},
   "outputs": [
    {
     "name": "stdout",
     "output_type": "stream",
     "text": [
      "Using matplotlib backend: QtAgg\n"
     ]
    },
    {
     "name": "stderr",
     "output_type": "stream",
     "text": [
      "Warning: QT_DEVICE_PIXEL_RATIO is deprecated. Instead use:\n",
      "   QT_AUTO_SCREEN_SCALE_FACTOR to enable platform plugin controlled per-screen factors.\n",
      "   QT_SCREEN_SCALE_FACTORS to set per-screen DPI.\n",
      "   QT_SCALE_FACTOR to set the application global scale factor.\n",
      "qt.qpa.plugin: Could not find the Qt platform plugin \"wayland\" in \"\"\n"
     ]
    }
   ],
   "source": [
    "#Import libraries\n",
    "import numpy as np\n",
    "import cv2 as cv\n",
    "import matplotlib.pyplot as plt\n",
    "import scipy.stats as st\n",
    "from PIL import Image\n",
    "from glob import glob\n",
    "\n",
    "%matplotlib\n"
   ]
  },
  {
   "cell_type": "markdown",
   "metadata": {},
   "source": [
    "### Ejercicio 1"
   ]
  },
  {
   "cell_type": "code",
   "execution_count": 3,
   "metadata": {},
   "outputs": [],
   "source": [
    "def create_gauss_filter(h, w, k_size, sigma):\n",
    "    #Reading image\n",
    "    img = cv.imread('./imgs/tp2/img_tp2.png', cv.IMREAD_GRAYSCALE)\n",
    "    h = img.shape[0]\n",
    "    w = img.shape[1]\n",
    "    \n",
    "    #2D Kernel generation\n",
    "    x = np.linspace(-sigma, sigma, k_size+1)\n",
    "    kernel1d = np.diff(st.norm.cdf(x))\n",
    "    kernel2d = np.outer(kernel1d, kernel1d)\n",
    "    gaussian_kernel = kernel2d/kernel2d.sum()\n",
    "    \n",
    "    #Padding generation\n",
    "    image_padded = np.zeros((h + (gaussian_kernel.shape[0]-1), w +\n",
    "                             (gaussian_kernel.shape[1]-1)))\n",
    "    \n",
    "    kernel_img_dim = image_padded[(gaussian_kernel.shape[0]//2):-(gaussian_kernel.shape[0]//2), (gaussian_kernel.shape[1]//2):-(gaussian_kernel.shape[1]//2)]\n",
    "\n",
    "    #Fourier Transform for the Kernel\n",
    "    kernel_fft = np.fft.fft2(kernel_img_dim)\n",
    "\n",
    "    #Fourier Transform for the image\n",
    "    img_fft = np.fft.fft2(img)\n",
    "\n",
    "    #Multiply  img_fft * kernel_fft \n",
    "    img_kernel =  img_fft * kernel_fft\n",
    "\n",
    "    #Fft inverse and take the real part\n",
    "    img_output = np.real(np.fft.ifft2(img_kernel))\n",
    "    print(img_output)\n",
    "\n",
    "    #Graficamos los resultado\n",
    "    plt.figure(figsize=(8,8))\n",
    "    plt.subplot(1,2,1)\n",
    "    plt.axis('off')\n",
    "    plt.imshow(img_output)\n",
    "\n",
    "    return img_output"
   ]
  },
  {
   "cell_type": "code",
   "execution_count": 4,
   "metadata": {},
   "outputs": [],
   "source": [
    "img = cv.imread('./imgs/tp2/img_tp2.png', cv.IMREAD_GRAYSCALE)\n",
    "h = img.shape[0]\n",
    "w = img.shape[1]"
   ]
  },
  {
   "cell_type": "code",
   "execution_count": 5,
   "metadata": {},
   "outputs": [
    {
     "name": "stdout",
     "output_type": "stream",
     "text": [
      "[[0. 0. 0. ... 0. 0. 0.]\n",
      " [0. 0. 0. ... 0. 0. 0.]\n",
      " [0. 0. 0. ... 0. 0. 0.]\n",
      " ...\n",
      " [0. 0. 0. ... 0. 0. 0.]\n",
      " [0. 0. 0. ... 0. 0. 0.]\n",
      " [0. 0. 0. ... 0. 0. 0.]]\n"
     ]
    },
    {
     "data": {
      "text/plain": [
       "array([[0., 0., 0., ..., 0., 0., 0.],\n",
       "       [0., 0., 0., ..., 0., 0., 0.],\n",
       "       [0., 0., 0., ..., 0., 0., 0.],\n",
       "       ...,\n",
       "       [0., 0., 0., ..., 0., 0., 0.],\n",
       "       [0., 0., 0., ..., 0., 0., 0.],\n",
       "       [0., 0., 0., ..., 0., 0., 0.]])"
      ]
     },
     "execution_count": 5,
     "metadata": {},
     "output_type": "execute_result"
    }
   ],
   "source": [
    "create_gauss_filter(h,w,5, 3)"
   ]
  },
  {
   "cell_type": "markdown",
   "metadata": {},
   "source": [
    "### Ejercicio 2"
   ]
  },
  {
   "cell_type": "code",
   "execution_count": 6,
   "metadata": {},
   "outputs": [],
   "source": [
    "def quality_measure(img):\n",
    "    h = img.shape[0]\n",
    "    w = img.shape[1]\n",
    "    #Fourier Transfor for the image\n",
    "    image_fft = np.fft.fft2(img)\n",
    "    #Shifted image fft\n",
    "    shifted_image_fft = np.fft.fftshift(image_fft)\n",
    "    #Abosluted value of shifted image\n",
    "    ab_shifted_image = abs(shifted_image_fft)\n",
    "    #Calculate maximun value of frequency component in ab_shifted_iamge\n",
    "    max_shifted_image = max(ab_shifted_image)\n",
    "    #Total number of pixel > threshold\n",
    "    threshold = max_shifted_image/1000\n",
    "    th = np.sum(np.array(max_shifted_image)>=threshold)\n",
    "    image_quality_measure = th/(h+w)\n",
    "\n",
    "    return image_quality_measure\n",
    "    \n",
    "    "
   ]
  },
  {
   "cell_type": "markdown",
   "metadata": {},
   "source": [
    "### Ejercicio 3\n",
    "\n",
    "Se eligió el método de Tenengrad para la evaluación de las métricas. Este método mide el foco de la imagen basado en la magnitud del gradiente según la siguiente función:\n",
    "\n",
    "$\\phi_{x,y}$ =  $\\sum_{(i,j) \\in \\Omega}(G_{x}(i,j)^2 + G_{y}(i,j)^2)$\n",
    "\n",
    "Donde $G_{x}$ y $G_{y}$ son los gradientes X e Y obtnenidos al convolusionar la imagen dada con el operador de Sobel. "
   ]
  },
  {
   "cell_type": "code",
   "execution_count": 7,
   "metadata": {},
   "outputs": [],
   "source": [
    "import cv2 as cv\n",
    "def tenengrad(img, ksize):\n",
    "    gX = cv.Sobel(img, ddepth=cv.CV_32F, dx=1, dy=0, ksize=ksize)\n",
    "    gY = cv.Sobel(img, ddepth=cv.CV_32F, dx=0, dy=1, ksize=ksize)\n",
    "    \n",
    "    #Convertimos el valor de punto flotante a uint8 \n",
    "    gX = cv.convertScaleAbs(gX)\n",
    "    gY = cv.convertScaleAbs(gY)\n",
    "\n",
    "    # Combinamos los gradientes en una sola imagen\n",
    "    combined = cv.addWeighted(gX, 0.5, gY, 0.5, 0)\n",
    "\n",
    "    # show our output images\n",
    "    cv.imshow(\"Sobel X\", gX)\n",
    "    cv.imshow(\"Sobel Y\", gY)\n",
    "    cv.imshow(\"Sobel Combined\", combined)\n",
    "    cv.waitKey(0)\n",
    "\n",
    "    return combined"
   ]
  },
  {
   "cell_type": "code",
   "execution_count": 12,
   "metadata": {},
   "outputs": [],
   "source": [
    "img = cv.imread('./imgs/tp2/img_tp2.png', cv.IMREAD_GRAYSCALE)\n",
    "ksize = 3\n",
    "tenengrad(img, ksize)"
   ]
  }
 ],
 "metadata": {
  "kernelspec": {
   "display_name": "openCV",
   "language": "python",
   "name": "python3"
  },
  "language_info": {
   "codemirror_mode": {
    "name": "ipython",
    "version": 3
   },
   "file_extension": ".py",
   "mimetype": "text/x-python",
   "name": "python",
   "nbconvert_exporter": "python",
   "pygments_lexer": "ipython3",
   "version": "3.10.12"
  },
  "orig_nbformat": 4
 },
 "nbformat": 4,
 "nbformat_minor": 2
}
